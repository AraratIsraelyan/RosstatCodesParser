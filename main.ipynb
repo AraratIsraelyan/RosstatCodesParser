{
 "cells": [
  {
   "cell_type": "code",
   "execution_count": null,
   "id": "b74e4f09-e6a1-4859-bad4-212e75924f57",
   "metadata": {},
   "outputs": [],
   "source": [
    "\"\"\"\n",
    "Этот код выполняет основной процесс обработки ИНН: \n",
    "    - создание директории;\n",
    "    - загрузку данных;\n",
    "    - парсинг;\n",
    "    - создание таблицы;\n",
    "    - сохранение результата;\n",
    "    - очистку временных файлов;\n",
    "\"\"\""
   ]
  },
  {
   "cell_type": "code",
   "execution_count": null,
   "id": "f4da178a-d30a-4c5d-b402-fa278eaf0b27",
   "metadata": {},
   "outputs": [],
   "source": [
    "from typing import List\n",
    "import pandas as pd\n",
    "import modules as mod\n",
    "import warnings\n",
    "warnings.simplefilter(\"ignore\")"
   ]
  },
  {
   "cell_type": "code",
   "execution_count": null,
   "id": "2a92d187-b1ff-4fdd-9494-305cd451f1b1",
   "metadata": {},
   "outputs": [],
   "source": [
    "if __name__ == \"__main__\":\n",
    "    # 1. Создаем директорию для хранения json данных\n",
    "    mod.create_directory()\n",
    "    # 2. Укажите путь к файлу с ИНН\n",
    "    file_path = \"examples/input_inn.xlsx\"\n",
    "    # 3. Загрузка списка ИНН из CSV файла\n",
    "    input_inn_list = pd.read_excel(file_path, dtype=\"str\").inn.to_list()\n",
    "    inn_list = mod.normalize_inn_list(input_inn_list)\n",
    "    # 4. Выполняем парсинг данных\n",
    "    mod.run_parser(inn_list)\n",
    "    # 5. Создаем таблицу из json файлов с информацией об организациях\n",
    "    df = mod.create_dataframe()\n",
    "    # 6. Сохраняем в эксель результат\n",
    "    df.astype(\"str\").to_excel(f\"{mod.gcd()}_Парсинг_ИНН.xlsx\", index=False)\n",
    "    # 7. Удаляем папку с json-ами\n",
    "    mod.delete_directory()"
   ]
  },
  {
   "cell_type": "code",
   "execution_count": null,
   "id": "29db11f9",
   "metadata": {},
   "outputs": [],
   "source": []
  }
 ],
 "metadata": {
  "kernelspec": {
   "display_name": "Python 3.12 (XPython)",
   "language": "python",
   "name": "xpython"
  },
  "language_info": {
   "file_extension": ".py",
   "mimetype": "text/x-python",
   "name": "python",
   "version": "3.12.1"
  }
 },
 "nbformat": 4,
 "nbformat_minor": 5
}
